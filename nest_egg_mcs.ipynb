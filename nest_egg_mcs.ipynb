{
 "cells": [
  {
   "cell_type": "markdown",
   "metadata": {},
   "source": [
    "# Monte Carlo Simulation"
   ]
  },
  {
   "cell_type": "code",
   "execution_count": 54,
   "metadata": {},
   "outputs": [],
   "source": [
    "import sys\n",
    "import random\n",
    "import matplotlib.pyplot as plt"
   ]
  },
  {
   "cell_type": "code",
   "execution_count": 55,
   "metadata": {},
   "outputs": [],
   "source": [
    "#Import Modules and define functions"
   ]
  },
  {
   "cell_type": "code",
   "execution_count": 56,
   "metadata": {},
   "outputs": [],
   "source": [
    "def read_to_list(file_name):\n",
    "    \"\"\"Open a file of data in percent, convert to a decimal and return a list\"\"\"\n",
    "    with open(file_name) as in_file:\n",
    "        lines = [float(line.strip()) for line in in_file]\n",
    "        decimal = [round(line / 100, 5) for line in lines]\n",
    "        return decimal\n",
    "    \n",
    "def default_input(prompt,default=None):\n",
    "    \"\"\"Allow use of default values in input.\"\"\"\n",
    "    prompt = '{} [{}]: '.format(prompt,default)\n",
    "    response = input(prompt)\n",
    "    if not response and default:\n",
    "        return default\n",
    "    else:\n",
    "        return response"
   ]
  },
  {
   "cell_type": "code",
   "execution_count": 57,
   "metadata": {},
   "outputs": [],
   "source": [
    "#Get User Input"
   ]
  },
  {
   "cell_type": "code",
   "execution_count": 58,
   "metadata": {},
   "outputs": [
    {
     "name": "stdout",
     "output_type": "stream",
     "text": [
      "\n",
      "Note: Input data should be in percent, not decimal!\n",
      "\n",
      "    stocks = SP500\n",
      "     bonds = 10-yr Treasury Bond\n",
      "  sb_blend = 50% SP500/50% TBond\n",
      " sbc_blend = 40% SP500/50% TBond/10% Cash\n",
      "\n",
      "Press ENTER to take default value shown in [brackets]. \n",
      "\n",
      "Enter investment type: (stocks, bonds, sb_blend, sbc_blend): \n",
      " [bonds]: bonds\n",
      "Input starting value of investments: \n",
      " [2000000]: 20000\n",
      "Input annual pre-tax withdrawal (today's $): \n",
      " [80000]: 0\n",
      "Input minimum years in retirement: \n",
      " [18]: 10\n",
      "Input most-likely years in retirement: \n",
      " [25]: 15\n",
      "Input maximum years in retirement: \n",
      " [40]: 25\n",
      "Input number of cases to run: \n",
      " [50000]: 3000\n"
     ]
    }
   ],
   "source": [
    "#Load Data with original data in percent form\n",
    "print(\"\\nNote: Input data should be in percent, not decimal!\\n\")\n",
    "try:\n",
    "    bonds = read_to_list('10-yr_Tbond_returns_1926-2013_pct.txt')\n",
    "    stocks = read_to_list('SP500_returns_1926-2013_pct.txt')\n",
    "    blend_40_50_10 = read_to_list('S-B-C_blend_1926-2013_pct.txt')\n",
    "    blend_50_50 = read_to_list('S-B_blend_1926-2013_pct.txt')\n",
    "    infl_rate = read_to_list('annual_infl_rate_1926-2013_pct.txt')\n",
    "except IOError as e:\n",
    "    print(\"{}. \\nTerminating program.\".format(e), file=sys.stderr)\n",
    "    sys.exit(1)\n",
    "    \n",
    "#get user input; use dictionary for investment-type arguments\n",
    "investment_type_args = {'bonds': bonds, 'stocks': stocks,\n",
    "                       'sb_blend': blend_50_50, 'sbc_blend': blend_40_50_10}\n",
    "\n",
    "#print input legend for user\n",
    "print(\"    stocks = SP500\")\n",
    "print(\"     bonds = 10-yr Treasury Bond\")\n",
    "print(\"  sb_blend = 50% SP500/50% TBond\")\n",
    "print(\" sbc_blend = 40% SP500/50% TBond/10% Cash\\n\")\n",
    "print(\"Press ENTER to take default value shown in [brackets]. \\n\")\n",
    "\n",
    "#get user input\n",
    "invest_type = default_input(\"Enter investment type: (stocks, bonds, sb_blend,\"\\\n",
    "                     \" sbc_blend): \\n\", 'bonds').lower()\n",
    "while invest_type not in investment_type_args:\n",
    "    invest_type = input(\"Invalid investment. Enter investment type \" \\\n",
    "                    \"as listed in prompt: \")\n",
    "\n",
    "start_value = default_input(\"Input starting value of investments: \\n\", \\\n",
    "                             '2000000')\n",
    "while not start_value.isdigit():\n",
    "    start_value = input(\"Invalid input! Input integer only: \")\n",
    "\n",
    "withdrawal = default_input(\"Input annual pre-tax withdrawal\" \\\n",
    "                            \" (today's $): \\n\", '80000')\n",
    "while not withdrawal.isdigit():\n",
    "    withdrawal = input(\"Invalid input! Input integer only: \")\n",
    "\n",
    "min_years = default_input(\"Input minimum years in retirement: \\n\", '18')\n",
    "while not min_years.isdigit():\n",
    "    min_years = input(\"Invalid input! Input integer only: \")\n",
    "\n",
    "most_likely_years = default_input(\"Input most-likely years in retirement: \\n\",\n",
    "                                  '25')\n",
    "while not most_likely_years.isdigit():\n",
    "    most_likely_years = input(\"Invalid input! Input integer only: \")\n",
    "\n",
    "max_years = default_input(\"Input maximum years in retirement: \\n\", '40')\n",
    "while not max_years.isdigit():\n",
    "    max_years = input(\"Invalid input! Input integer only: \")\n",
    "    \n",
    "num_cases = default_input(\"Input number of cases to run: \\n\", '50000')\n",
    "while not num_cases.isdigit():\n",
    "    num_cases = input(\"Invalid input! Input integer only: \")\n",
    "    \n",
    "#check for erronues input\n",
    "if not int(min_years) < int(most_likely_years) < int(max_years) \\\n",
    "    or int(max_years) > 99:\n",
    "    print(\"\\nProblem with input years.\", file=sys.stderr)\n",
    "    print(\"Requires Min < ML < Max with Max <= 99.\", file=sys.stderr)\n",
    "    sys.exit(1)"
   ]
  },
  {
   "cell_type": "code",
   "execution_count": 59,
   "metadata": {},
   "outputs": [],
   "source": [
    "#Define Monte Carlo Engine"
   ]
  },
  {
   "cell_type": "code",
   "execution_count": 60,
   "metadata": {},
   "outputs": [],
   "source": [
    "def montecarlo(returns):\n",
    "    \"\"\"Run MCS and return investment value at end-of-plan and bankrupt count,\"\"\"\n",
    "    case_count = 0\n",
    "    bankrupt_count = 0\n",
    "    outcome = []\n",
    "    \n",
    "    while case_count < int(num_cases):\n",
    "        investments = int(start_value)\n",
    "        start_year = random.randrange(0, len(returns))\n",
    "        duration = int(random.triangular(int(min_years), int(max_years), int(most_likely_years)))\n",
    "        end_year = start_year + duration\n",
    "        lifespan = [i for i in range(start_year, end_year)]\n",
    "        bankrupt = 'no'\n",
    "        \n",
    "        #temp list for each case\n",
    "        lifespan_returns = []\n",
    "        lifespan_infl = []\n",
    "        for i in lifespan:\n",
    "            lifespan_returns.append(returns[i % len(returns)])\n",
    "            lifespan_infl.append(infl_rate[i % len(infl_rate)])\n",
    "            \n",
    "        for index, i in enumerate(lifespan_returns):\n",
    "            infl = lifespan_infl[index]\n",
    "    \n",
    "            if index == 0:\n",
    "                withdraw_infl_adj = int(withdrawal)\n",
    "            else:\n",
    "                withdraw_infl_adj = int(withdraw_infl_adj * (1 + infl))\n",
    "    \n",
    "            investments -= withdraw_infl_adj\n",
    "            investments = int(investments * (1 + i))\n",
    "    \n",
    "            if investments <= 0:\n",
    "                bankrupt = 'yes'\n",
    "                break\n",
    "        \n",
    "        if bankrupt == 'yes':\n",
    "            outcome.append(0)\n",
    "            bankrupt_count += 1\n",
    "        else:\n",
    "            outcome.append(investments)\n",
    "    \n",
    "        case_count += 1\n",
    "\n",
    "    return outcome, bankrupt_count"
   ]
  },
  {
   "cell_type": "code",
   "execution_count": 61,
   "metadata": {},
   "outputs": [],
   "source": [
    "#Calculating Probability of Ruin\n",
    "def bankrupt_prob(outcome, bankrupt_count):\n",
    "    \"\"\"Calculate and return chance of running out of money and other stats.\"\"\"\n",
    "    total = len(outcome)\n",
    "    odds = round(100 * bankrupt_count / total, 1)\n",
    "    \n",
    "    print(\"\\n Investment Type: {}\".format(invest_type))\n",
    "    print(\"Starting value: ${:,}\".format(int(start_value)))\n",
    "    print(\"Annual Withdrawal: ${:,}\".format(int(withdrawal)))\n",
    "    print(\"Years of retirement (min-ml-max): {}-{}-{}\".format(min_years, most_likely_years, max_years))\n",
    "    print(\"Number of runs: {:,}\\n\".format(len(outcome)))\n",
    "    print(\"Odds of running out of money: {}%\\n\".format(odds))\n",
    "    print(\"Average outcome: ${:,}\".format(int(sum(outcome) / total)))\n",
    "    print(\"Minimum outcome: ${:,}\".format(min(i for i in outcome)))\n",
    "    print(\"Maximum outcome: ${:,}\".format(max(i for i in outcome)))\n",
    "    \n",
    "    return odds"
   ]
  },
  {
   "cell_type": "code",
   "execution_count": 63,
   "metadata": {},
   "outputs": [
    {
     "name": "stdout",
     "output_type": "stream",
     "text": [
      "\n",
      " Investment Type: bonds\n",
      "Starting value: $20,000\n",
      "Annual Withdrawal: $0\n",
      "Years of retirement (min-ml-max): 10-15-25\n",
      "Number of runs: 3,000\n",
      "\n",
      "Odds of running out of money: 0.0%\n",
      "\n",
      "Average outcome: $48,215\n",
      "Minimum outcome: $21,617\n",
      "Maximum outcome: $184,942\n"
     ]
    },
    {
     "data": {
      "image/png": "[encoded data removed]",
      "text/plain": [
       "<Figure size 1152x360 with 1 Axes>"
      ]
     },
     "metadata": {
      "needs_background": "light"
     },
     "output_type": "display_data"
    }
   ],
   "source": [
    "#Define Main Function\n",
    "def main():\n",
    "    \"\"\"Call MCS & bankrupt functions and draw bar chart of results\"\"\"\n",
    "    outcome, bankrupt_count = montecarlo(investment_type_args[invest_type])\n",
    "    odds = bankrupt_prob(outcome, bankrupt_count)\n",
    "    \n",
    "    plotdata = outcome[:3000] #plot first 3000 runs\n",
    "    \n",
    "    plt.figure('Outcome by Case(showing first{} runs)'.format(len(plotdata)),figsize=(16,5)) #size in width, height in inches\n",
    "    index = [i + 1 for i in range(len(plotdata))]\n",
    "    plt.bar(index, plotdata, color ='black')\n",
    "    plt.xlabel('Simulated Lves', fontsize = 18)\n",
    "    plt.ylabel( '$ Remaining', fontsize = 18)\n",
    "    plt.ticklabel_format(style='plain', axis = 'y')\n",
    "    ax = plt.gca()\n",
    "    ax.get_yaxis().set_major_formatter(plt.FuncFormatter(lambda x, loc: \"{:,}\".format(int(x))))\n",
    "    plt.title('Probability of running out of money = {}%'.format(odds),fontsize=20, color='red')\n",
    "    plt.show\n",
    "#run program\n",
    "if __name__ == '__main__':\n",
    "    main() "
   ]
  },
  {
   "cell_type": "code",
   "execution_count": null,
   "metadata": {},
   "outputs": [],
   "source": []
  }
 ],
 "metadata": {
  "kernelspec": {
   "display_name": "Python 3",
   "language": "python",
   "name": "python3"
  },
  "language_info": {
   "codemirror_mode": {
    "name": "ipython",
    "version": 3
   },
   "file_extension": ".py",
   "mimetype": "text/x-python",
   "name": "python",
   "nbconvert_exporter": "python",
   "pygments_lexer": "ipython3",
   "version": "3.7.6"
  }
 },
 "nbformat": 4,
 "nbformat_minor": 4
}
